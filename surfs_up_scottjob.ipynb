{
 "cells": [
  {
   "cell_type": "code",
   "execution_count": 116,
   "metadata": {},
   "outputs": [],
   "source": [
    "# Data analysis libraries\n",
    "import numpy as np\n",
    "import pandas as pd\n",
    "import datetime as dt\n",
    "import seaborn as sns\n",
    "\n",
    "# Matplotlib libraries\n",
    "%matplotlib inline\n",
    "import matplotlib.pyplot as plt\n",
    "import matplotlib.dates as mdates\n",
    "\n",
    "# Python SQL toolkit and Object Relational Mapper\n",
    "import sqlalchemy\n",
    "from sqlalchemy.ext.automap import automap_base\n",
    "from sqlalchemy.orm import Session\n",
    "from sqlalchemy import create_engine, func"
   ]
  },
  {
   "cell_type": "markdown",
   "metadata": {},
   "source": [
    "# Reflect Tables into SQLAlchemy ORM"
   ]
  },
  {
   "cell_type": "code",
   "execution_count": 2,
   "metadata": {},
   "outputs": [],
   "source": [
    "engine = create_engine(\"sqlite:///Resources/hawaii.sqlite\")"
   ]
  },
  {
   "cell_type": "code",
   "execution_count": 3,
   "metadata": {},
   "outputs": [],
   "source": [
    "# reflect an existing database into a new model\n",
    "Base = automap_base()\n",
    "\n",
    "# reflect the tables\n",
    "Base.prepare(engine, reflect=True)"
   ]
  },
  {
   "cell_type": "code",
   "execution_count": 4,
   "metadata": {},
   "outputs": [
    {
     "name": "stdout",
     "output_type": "stream",
     "text": [
      "Table name: measurement\n",
      "   id INTEGER  PRIMARY KEY\n",
      "   station TEXT\n",
      "   date TEXT\n",
      "   prcp FLOAT\n",
      "   tobs FLOAT\n",
      "Table name: station\n",
      "   id INTEGER  PRIMARY KEY\n",
      "   station TEXT\n",
      "   name TEXT\n",
      "   latitude FLOAT\n",
      "   longitude FLOAT\n",
      "   elevation FLOAT\n"
     ]
    }
   ],
   "source": [
    "# Show table names, columns, and data types\n",
    "for table in Base.classes:\n",
    "    print(f\"Table name: {table.__table__.name}\")\n",
    "    for c in table.__table__.columns:\n",
    "        print(f\"   {c.name} {c.type}\", end='')\n",
    "        if c.primary_key:\n",
    "            print(\"  PRIMARY KEY\")\n",
    "        else:\n",
    "            print()"
   ]
  },
  {
   "cell_type": "code",
   "execution_count": 5,
   "metadata": {},
   "outputs": [],
   "source": [
    "# Save references to each table\n",
    "Meas = Base.classes.measurement\n",
    "Sta = Base.classes.station"
   ]
  },
  {
   "cell_type": "code",
   "execution_count": 6,
   "metadata": {},
   "outputs": [],
   "source": [
    "# Create our session (link) from Python to the DB\n",
    "session = Session(engine)"
   ]
  },
  {
   "cell_type": "code",
   "execution_count": 7,
   "metadata": {},
   "outputs": [
    {
     "data": {
      "text/plain": [
       "[(1, 'USC00519397', 'WAIKIKI 717.2, HI US', 21.2716, -157.8168, 3.0),\n",
       " (2, 'USC00513117', 'KANEOHE 838.1, HI US', 21.4234, -157.8015, 14.6),\n",
       " (3, 'USC00514830', 'KUALOA RANCH HEADQUARTERS 886.9, HI US', 21.5213, -157.8374, 7.0),\n",
       " (4, 'USC00517948', 'PEARL CITY, HI US', 21.3934, -157.9751, 11.9),\n",
       " (5, 'USC00518838', 'UPPER WAHIAWA 874.3, HI US', 21.4992, -158.0111, 306.6),\n",
       " (6, 'USC00519523', 'WAIMANALO EXPERIMENTAL FARM, HI US', 21.33556, -157.71139, 19.5),\n",
       " (7, 'USC00519281', 'WAIHEE 837.5, HI US', 21.45167, -157.84888999999998, 32.9),\n",
       " (8, 'USC00511918', 'HONOLULU OBSERVATORY 702.2, HI US', 21.3152, -157.9992, 0.9),\n",
       " (9, 'USC00516128', 'MANOA LYON ARBO 785.2, HI US', 21.3331, -157.8025, 152.4)]"
      ]
     },
     "execution_count": 7,
     "metadata": {},
     "output_type": "execute_result"
    }
   ],
   "source": [
    "engine.execute('SELECT * FROM station').fetchall()"
   ]
  },
  {
   "cell_type": "code",
   "execution_count": 8,
   "metadata": {},
   "outputs": [
    {
     "data": {
      "text/plain": [
       "[(1, 'USC00519397', '2010-01-01', 0.08, 65.0),\n",
       " (2, 'USC00519397', '2010-01-02', 0.0, 63.0),\n",
       " (3, 'USC00519397', '2010-01-03', 0.0, 74.0),\n",
       " (4, 'USC00519397', '2010-01-04', 0.0, 76.0),\n",
       " (5, 'USC00519397', '2010-01-06', None, 73.0),\n",
       " (6, 'USC00519397', '2010-01-07', 0.06, 70.0),\n",
       " (7, 'USC00519397', '2010-01-08', 0.0, 64.0),\n",
       " (8, 'USC00519397', '2010-01-09', 0.0, 68.0),\n",
       " (9, 'USC00519397', '2010-01-10', 0.0, 73.0),\n",
       " (10, 'USC00519397', '2010-01-11', 0.01, 64.0)]"
      ]
     },
     "execution_count": 8,
     "metadata": {},
     "output_type": "execute_result"
    }
   ],
   "source": [
    "engine.execute('SELECT * FROM measurement LIMIT 10').fetchall()"
   ]
  },
  {
   "cell_type": "markdown",
   "metadata": {},
   "source": [
    "# Exploratory Climate Analysis"
   ]
  },
  {
   "cell_type": "code",
   "execution_count": 9,
   "metadata": {},
   "outputs": [
    {
     "data": {
      "text/plain": [
       "[('USC00511918', '2010-01-01', '2015-10-30', 'HONOLULU OBSERVATORY 702.2, HI US'),\n",
       " ('USC00513117', '2010-01-01', '2017-07-31', 'KANEOHE 838.1, HI US'),\n",
       " ('USC00514830', '2010-03-01', '2017-08-23', 'KUALOA RANCH HEADQUARTERS 886.9, HI US'),\n",
       " ('USC00516128', '2010-01-01', '2017-08-23', 'MANOA LYON ARBO 785.2, HI US'),\n",
       " ('USC00517948', '2010-05-03', '2017-07-31', 'PEARL CITY, HI US'),\n",
       " ('USC00518838', '2010-01-01', '2015-11-20', 'UPPER WAHIAWA 874.3, HI US'),\n",
       " ('USC00519281', '2010-01-01', '2017-08-18', 'WAIHEE 837.5, HI US'),\n",
       " ('USC00519397', '2010-01-01', '2017-08-23', 'WAIKIKI 717.2, HI US'),\n",
       " ('USC00519523', '2010-01-01', '2017-08-23', 'WAIMANALO EXPERIMENTAL FARM, HI US')]"
      ]
     },
     "execution_count": 9,
     "metadata": {},
     "output_type": "execute_result"
    }
   ],
   "source": [
    "# Show Period of Record for each station\n",
    "sel = [Meas.station,\n",
    "       func.min(Meas.date), \n",
    "       func.max(Meas.date),\n",
    "       Sta.name]\n",
    "sta_daterange = session.query(*sel).\\\n",
    "    filter(Meas.station == Sta.station).\\\n",
    "    group_by(Meas.station).\\\n",
    "    order_by(Sta.name).all()\n",
    "sta_daterange"
   ]
  },
  {
   "cell_type": "markdown",
   "metadata": {},
   "source": [
    "### Plot 12 months of precipitation data"
   ]
  },
  {
   "cell_type": "code",
   "execution_count": 10,
   "metadata": {},
   "outputs": [
    {
     "name": "stdout",
     "output_type": "stream",
     "text": [
      "('USC00519397', '2016-08-01', 0.08)\n",
      "('USC00519397', '2016-08-02', 0.05)\n",
      "('USC00519397', '2016-08-03', 0.0)\n",
      "('USC00519397', '2016-08-04', 0.04)\n",
      "('USC00519397', '2016-08-05', 0.01)\n",
      "('USC00519397', '2016-08-06', 0.0)\n",
      "('USC00519397', '2016-08-07', 0.39)\n",
      "('USC00519397', '2016-08-08', 0.02)\n",
      "('USC00519397', '2016-08-09', 0.0)\n",
      "('USC00519397', '2016-08-10', 0.0)\n",
      "\n",
      "Record count: 2281\n"
     ]
    }
   ],
   "source": [
    "# Retrieve 12 months of precipitation data spanning 2016-08-01 through 2017-07-31\n",
    "sel = [Meas.station,\n",
    "       Meas.date,\n",
    "       Meas.prcp]\n",
    "\n",
    "enddate = dt.date.fromisoformat('2017-07-31')\n",
    "startdate = enddate - dt.timedelta(days=364)\n",
    "\n",
    "sta_prcp = session.query(*sel).\\\n",
    "    filter(Meas.date >= startdate).\\\n",
    "    filter(Meas.date <= enddate).all()\n",
    "\n",
    "for row in sta_prcp[0:10]:\n",
    "    print(row)\n",
    "print(f\"\\nRecord count: {len(sta_prcp)}\")"
   ]
  },
  {
   "cell_type": "code",
   "execution_count": 26,
   "metadata": {},
   "outputs": [
    {
     "data": {
      "text/html": [
       "<div>\n",
       "<style scoped>\n",
       "    .dataframe tbody tr th:only-of-type {\n",
       "        vertical-align: middle;\n",
       "    }\n",
       "\n",
       "    .dataframe tbody tr th {\n",
       "        vertical-align: top;\n",
       "    }\n",
       "\n",
       "    .dataframe thead th {\n",
       "        text-align: right;\n",
       "    }\n",
       "</style>\n",
       "<table border=\"1\" class=\"dataframe\">\n",
       "  <thead>\n",
       "    <tr style=\"text-align: right;\">\n",
       "      <th></th>\n",
       "      <th>Sta_ID</th>\n",
       "      <th>Date</th>\n",
       "      <th>Prec</th>\n",
       "    </tr>\n",
       "  </thead>\n",
       "  <tbody>\n",
       "    <tr>\n",
       "      <th>0</th>\n",
       "      <td>USC00519397</td>\n",
       "      <td>2016-08-01</td>\n",
       "      <td>0.08</td>\n",
       "    </tr>\n",
       "    <tr>\n",
       "      <th>1</th>\n",
       "      <td>USC00519397</td>\n",
       "      <td>2016-08-02</td>\n",
       "      <td>0.05</td>\n",
       "    </tr>\n",
       "    <tr>\n",
       "      <th>2</th>\n",
       "      <td>USC00519397</td>\n",
       "      <td>2016-08-03</td>\n",
       "      <td>0.00</td>\n",
       "    </tr>\n",
       "    <tr>\n",
       "      <th>3</th>\n",
       "      <td>USC00519397</td>\n",
       "      <td>2016-08-04</td>\n",
       "      <td>0.04</td>\n",
       "    </tr>\n",
       "    <tr>\n",
       "      <th>4</th>\n",
       "      <td>USC00519397</td>\n",
       "      <td>2016-08-05</td>\n",
       "      <td>0.01</td>\n",
       "    </tr>\n",
       "  </tbody>\n",
       "</table>\n",
       "</div>"
      ],
      "text/plain": [
       "        Sta_ID        Date  Prec\n",
       "0  USC00519397  2016-08-01  0.08\n",
       "1  USC00519397  2016-08-02  0.05\n",
       "2  USC00519397  2016-08-03  0.00\n",
       "3  USC00519397  2016-08-04  0.04\n",
       "4  USC00519397  2016-08-05  0.01"
      ]
     },
     "metadata": {},
     "output_type": "display_data"
    },
    {
     "data": {
      "text/html": [
       "<div>\n",
       "<style scoped>\n",
       "    .dataframe tbody tr th:only-of-type {\n",
       "        vertical-align: middle;\n",
       "    }\n",
       "\n",
       "    .dataframe tbody tr th {\n",
       "        vertical-align: top;\n",
       "    }\n",
       "\n",
       "    .dataframe thead th {\n",
       "        text-align: right;\n",
       "    }\n",
       "</style>\n",
       "<table border=\"1\" class=\"dataframe\">\n",
       "  <thead>\n",
       "    <tr style=\"text-align: right;\">\n",
       "      <th>Sta_ID</th>\n",
       "      <th>USC00513117</th>\n",
       "      <th>USC00514830</th>\n",
       "      <th>USC00516128</th>\n",
       "      <th>USC00517948</th>\n",
       "      <th>USC00519281</th>\n",
       "      <th>USC00519397</th>\n",
       "      <th>USC00519523</th>\n",
       "    </tr>\n",
       "    <tr>\n",
       "      <th>Date</th>\n",
       "      <th></th>\n",
       "      <th></th>\n",
       "      <th></th>\n",
       "      <th></th>\n",
       "      <th></th>\n",
       "      <th></th>\n",
       "      <th></th>\n",
       "    </tr>\n",
       "  </thead>\n",
       "  <tbody>\n",
       "    <tr>\n",
       "      <th>2016-08-01</th>\n",
       "      <td>2.35</td>\n",
       "      <td>NaN</td>\n",
       "      <td>2.21</td>\n",
       "      <td>NaN</td>\n",
       "      <td>3.53</td>\n",
       "      <td>0.08</td>\n",
       "      <td>0.54</td>\n",
       "    </tr>\n",
       "    <tr>\n",
       "      <th>2016-08-02</th>\n",
       "      <td>0.20</td>\n",
       "      <td>0.55</td>\n",
       "      <td>1.14</td>\n",
       "      <td>0.00</td>\n",
       "      <td>0.83</td>\n",
       "      <td>0.05</td>\n",
       "      <td>0.07</td>\n",
       "    </tr>\n",
       "    <tr>\n",
       "      <th>2016-08-03</th>\n",
       "      <td>0.02</td>\n",
       "      <td>0.00</td>\n",
       "      <td>NaN</td>\n",
       "      <td>0.02</td>\n",
       "      <td>0.01</td>\n",
       "      <td>0.00</td>\n",
       "      <td>0.00</td>\n",
       "    </tr>\n",
       "    <tr>\n",
       "      <th>2016-08-04</th>\n",
       "      <td>0.62</td>\n",
       "      <td>NaN</td>\n",
       "      <td>NaN</td>\n",
       "      <td>0.13</td>\n",
       "      <td>0.77</td>\n",
       "      <td>0.04</td>\n",
       "      <td>0.25</td>\n",
       "    </tr>\n",
       "    <tr>\n",
       "      <th>2016-08-05</th>\n",
       "      <td>0.03</td>\n",
       "      <td>NaN</td>\n",
       "      <td>NaN</td>\n",
       "      <td>0.03</td>\n",
       "      <td>0.27</td>\n",
       "      <td>0.01</td>\n",
       "      <td>0.00</td>\n",
       "    </tr>\n",
       "  </tbody>\n",
       "</table>\n",
       "</div>"
      ],
      "text/plain": [
       "Sta_ID      USC00513117  USC00514830  USC00516128  USC00517948  USC00519281  \\\n",
       "Date                                                                          \n",
       "2016-08-01         2.35          NaN         2.21          NaN         3.53   \n",
       "2016-08-02         0.20         0.55         1.14         0.00         0.83   \n",
       "2016-08-03         0.02         0.00          NaN         0.02         0.01   \n",
       "2016-08-04         0.62          NaN          NaN         0.13         0.77   \n",
       "2016-08-05         0.03          NaN          NaN         0.03         0.27   \n",
       "\n",
       "Sta_ID      USC00519397  USC00519523  \n",
       "Date                                  \n",
       "2016-08-01         0.08         0.54  \n",
       "2016-08-02         0.05         0.07  \n",
       "2016-08-03         0.00         0.00  \n",
       "2016-08-04         0.04         0.25  \n",
       "2016-08-05         0.01         0.00  "
      ]
     },
     "metadata": {},
     "output_type": "display_data"
    },
    {
     "name": "stdout",
     "output_type": "stream",
     "text": [
      "\n",
      "The data type of the index (date) column is datetime64[ns]\n",
      "\n",
      "The following Dataframe shows the observation count and sum of precipitation for each station\n",
      "\n"
     ]
    },
    {
     "data": {
      "text/html": [
       "<div>\n",
       "<style scoped>\n",
       "    .dataframe tbody tr th:only-of-type {\n",
       "        vertical-align: middle;\n",
       "    }\n",
       "\n",
       "    .dataframe tbody tr th {\n",
       "        vertical-align: top;\n",
       "    }\n",
       "\n",
       "    .dataframe thead th {\n",
       "        text-align: right;\n",
       "    }\n",
       "</style>\n",
       "<table border=\"1\" class=\"dataframe\">\n",
       "  <thead>\n",
       "    <tr style=\"text-align: right;\">\n",
       "      <th></th>\n",
       "      <th>Count</th>\n",
       "      <th>Mean Prec</th>\n",
       "    </tr>\n",
       "    <tr>\n",
       "      <th>Sta_ID</th>\n",
       "      <th></th>\n",
       "      <th></th>\n",
       "    </tr>\n",
       "  </thead>\n",
       "  <tbody>\n",
       "    <tr>\n",
       "      <th>USC00513117</th>\n",
       "      <td>365</td>\n",
       "      <td>54.39</td>\n",
       "    </tr>\n",
       "    <tr>\n",
       "      <th>USC00514830</th>\n",
       "      <td>260</td>\n",
       "      <td>34.14</td>\n",
       "    </tr>\n",
       "    <tr>\n",
       "      <th>USC00516128</th>\n",
       "      <td>331</td>\n",
       "      <td>157.91</td>\n",
       "    </tr>\n",
       "    <tr>\n",
       "      <th>USC00517948</th>\n",
       "      <td>67</td>\n",
       "      <td>4.77</td>\n",
       "    </tr>\n",
       "    <tr>\n",
       "      <th>USC00519281</th>\n",
       "      <td>365</td>\n",
       "      <td>79.49</td>\n",
       "    </tr>\n",
       "    <tr>\n",
       "      <th>USC00519397</th>\n",
       "      <td>360</td>\n",
       "      <td>17.18</td>\n",
       "    </tr>\n",
       "    <tr>\n",
       "      <th>USC00519523</th>\n",
       "      <td>319</td>\n",
       "      <td>39.80</td>\n",
       "    </tr>\n",
       "  </tbody>\n",
       "</table>\n",
       "</div>"
      ],
      "text/plain": [
       "             Count  Mean Prec\n",
       "Sta_ID                       \n",
       "USC00513117    365      54.39\n",
       "USC00514830    260      34.14\n",
       "USC00516128    331     157.91\n",
       "USC00517948     67       4.77\n",
       "USC00519281    365      79.49\n",
       "USC00519397    360      17.18\n",
       "USC00519523    319      39.80"
      ]
     },
     "execution_count": 26,
     "metadata": {},
     "output_type": "execute_result"
    }
   ],
   "source": [
    "# Save the query results as a Pandas DataFrame\n",
    "cols = ['Sta_ID', 'Date', 'Prec']\n",
    "df_sta_prcp = pd.DataFrame(sta_prcp, columns=cols)\n",
    "# df_sta_prcp['Coop_ID'] = df_sta_prcp['Sta_ID'].str[-6:]\n",
    "# df_sta_prcp.drop(columns=['Sta_ID'], inplace=True)\n",
    "display(df_sta_prcp.head(5))\n",
    "\n",
    "# Get list of unique stations\n",
    "sta_prcp_list = sorted(list(df_sta_prcp['Sta_ID'].unique()))\n",
    "\n",
    "df_prcp = pd.pivot_table(df_sta_prcp, values='Prec', index='Date', columns='Sta_ID', aggfunc='first')\n",
    "\n",
    "df_prcp.index = pd.to_datetime(df_prcp.index)\n",
    "display(df_prcp.head(5))\n",
    "\n",
    "print(f\"\\nThe data type of the index (date) column is {df_prcp.index.dtype}\\n\")\n",
    "\n",
    "print(\"The following Dataframe shows the observation count and sum of precipitation for each station\\n\")\n",
    "pd.concat([df_prcp.count(), df_prcp.sum()], axis=1, keys=['Count', 'Mean Prec'])\n",
    "\n"
   ]
  },
  {
   "cell_type": "markdown",
   "metadata": {},
   "source": [
    "## Use Pandas Plotting with Matplotlib to plot the data"
   ]
  },
  {
   "cell_type": "code",
   "execution_count": 27,
   "metadata": {},
   "outputs": [],
   "source": [
    "# Discard Coop_ID 517948 since it has limited data\n",
    "df_prcp2 = df_prcp.drop(columns='USC00517948')"
   ]
  },
  {
   "cell_type": "code",
   "execution_count": 28,
   "metadata": {},
   "outputs": [
    {
     "data": {
      "image/png": "[encoded data removed]",
      "text/plain": [
       "<Figure size 864x936 with 6 Axes>"
      ]
     },
     "metadata": {
      "needs_background": "light"
     },
     "output_type": "display_data"
    }
   ],
   "source": [
    "\n",
    "dates = df_prcp2.index\n",
    "xmin = startdate - dt.timedelta(days=7)\n",
    "xmax = enddate + dt.timedelta(days=7)\n",
    "\n",
    "\n",
    "axs = plt.figure(figsize=(12,13)).subplots(3,2)\n",
    "plt.setp(axs, ylim=([-0.3,7]), xlim=([xmin,xmax]), ylabel='Inches')\n",
    "bbox_props = dict(boxstyle=\"square\", fc=\"w\", ec='tab:blue', alpha=0.8)\n",
    "axs = axs.flat\n",
    "\n",
    "for ax,station in zip(axs, df_prcp2.columns):\n",
    "    prec = df_prcp2[station].values\n",
    "    NaNs = [-0.17 if np.isnan(x) else np.nan for x in prec]\n",
    "    ax.plot(dates, prec, linewidth=1)                                   # width=pd.Timedelta(days=1)\n",
    "    ax.fill_between(dates, df_prcp2[station])\n",
    "    ax.bar(dates, NaNs, color='red', width=pd.Timedelta(days=1))\n",
    "    ax.text(dt.datetime(2017,2,1), 6.25, station, color='tab:blue', ha=\"center\", va=\"center\", size=13, bbox=bbox_props)\n",
    "    ax.xaxis.set_major_locator(mdates.MonthLocator())\n",
    "    ax.xaxis.set_major_formatter(mdates.DateFormatter(\"%b '%y\"))\n",
    "    for label in ax.get_xticklabels():\n",
    "        label.set_rotation(45)\n",
    "        label.set_horizontalalignment('right')    \n",
    "    ax.tick_params(axis='both', length=3)\n",
    "\n",
    "\n",
    "# plt.savefig('prec_plots.png', dpi=300)"
   ]
  },
  {
   "cell_type": "code",
   "execution_count": 29,
   "metadata": {},
   "outputs": [
    {
     "data": {
      "text/html": [
       "<div>\n",
       "<style scoped>\n",
       "    .dataframe tbody tr th:only-of-type {\n",
       "        vertical-align: middle;\n",
       "    }\n",
       "\n",
       "    .dataframe tbody tr th {\n",
       "        vertical-align: top;\n",
       "    }\n",
       "\n",
       "    .dataframe thead th {\n",
       "        text-align: right;\n",
       "    }\n",
       "</style>\n",
       "<table border=\"1\" class=\"dataframe\">\n",
       "  <thead>\n",
       "    <tr style=\"text-align: right;\">\n",
       "      <th>Sta_ID</th>\n",
       "      <th>USC00513117</th>\n",
       "      <th>USC00514830</th>\n",
       "      <th>USC00516128</th>\n",
       "      <th>USC00519281</th>\n",
       "      <th>USC00519397</th>\n",
       "      <th>USC00519523</th>\n",
       "    </tr>\n",
       "  </thead>\n",
       "  <tbody>\n",
       "    <tr>\n",
       "      <th>count</th>\n",
       "      <td>365.000000</td>\n",
       "      <td>260.000000</td>\n",
       "      <td>331.000000</td>\n",
       "      <td>365.000000</td>\n",
       "      <td>360.000000</td>\n",
       "      <td>319.000000</td>\n",
       "    </tr>\n",
       "    <tr>\n",
       "      <th>mean</th>\n",
       "      <td>0.149014</td>\n",
       "      <td>0.131308</td>\n",
       "      <td>0.477069</td>\n",
       "      <td>0.217781</td>\n",
       "      <td>0.047722</td>\n",
       "      <td>0.124765</td>\n",
       "    </tr>\n",
       "    <tr>\n",
       "      <th>std</th>\n",
       "      <td>0.354761</td>\n",
       "      <td>0.320596</td>\n",
       "      <td>0.732042</td>\n",
       "      <td>0.462878</td>\n",
       "      <td>0.190305</td>\n",
       "      <td>0.506417</td>\n",
       "    </tr>\n",
       "    <tr>\n",
       "      <th>min</th>\n",
       "      <td>0.000000</td>\n",
       "      <td>0.000000</td>\n",
       "      <td>0.000000</td>\n",
       "      <td>0.000000</td>\n",
       "      <td>0.000000</td>\n",
       "      <td>0.000000</td>\n",
       "    </tr>\n",
       "    <tr>\n",
       "      <th>25%</th>\n",
       "      <td>0.000000</td>\n",
       "      <td>0.000000</td>\n",
       "      <td>0.010000</td>\n",
       "      <td>0.000000</td>\n",
       "      <td>0.000000</td>\n",
       "      <td>0.000000</td>\n",
       "    </tr>\n",
       "    <tr>\n",
       "      <th>50%</th>\n",
       "      <td>0.030000</td>\n",
       "      <td>0.020000</td>\n",
       "      <td>0.220000</td>\n",
       "      <td>0.060000</td>\n",
       "      <td>0.000000</td>\n",
       "      <td>0.000000</td>\n",
       "    </tr>\n",
       "    <tr>\n",
       "      <th>75%</th>\n",
       "      <td>0.130000</td>\n",
       "      <td>0.120000</td>\n",
       "      <td>0.700000</td>\n",
       "      <td>0.200000</td>\n",
       "      <td>0.020000</td>\n",
       "      <td>0.070000</td>\n",
       "    </tr>\n",
       "    <tr>\n",
       "      <th>max</th>\n",
       "      <td>2.900000</td>\n",
       "      <td>2.390000</td>\n",
       "      <td>6.700000</td>\n",
       "      <td>3.530000</td>\n",
       "      <td>2.620000</td>\n",
       "      <td>6.250000</td>\n",
       "    </tr>\n",
       "  </tbody>\n",
       "</table>\n",
       "</div>"
      ],
      "text/plain": [
       "Sta_ID  USC00513117  USC00514830  USC00516128  USC00519281  USC00519397  \\\n",
       "count    365.000000   260.000000   331.000000   365.000000   360.000000   \n",
       "mean       0.149014     0.131308     0.477069     0.217781     0.047722   \n",
       "std        0.354761     0.320596     0.732042     0.462878     0.190305   \n",
       "min        0.000000     0.000000     0.000000     0.000000     0.000000   \n",
       "25%        0.000000     0.000000     0.010000     0.000000     0.000000   \n",
       "50%        0.030000     0.020000     0.220000     0.060000     0.000000   \n",
       "75%        0.130000     0.120000     0.700000     0.200000     0.020000   \n",
       "max        2.900000     2.390000     6.700000     3.530000     2.620000   \n",
       "\n",
       "Sta_ID  USC00519523  \n",
       "count    319.000000  \n",
       "mean       0.124765  \n",
       "std        0.506417  \n",
       "min        0.000000  \n",
       "25%        0.000000  \n",
       "50%        0.000000  \n",
       "75%        0.070000  \n",
       "max        6.250000  "
      ]
     },
     "execution_count": 29,
     "metadata": {},
     "output_type": "execute_result"
    }
   ],
   "source": [
    "# Use Pandas to calcualte the summary statistics for the precipitation data\n",
    "df_prcp2.describe()"
   ]
  },
  {
   "cell_type": "code",
   "execution_count": 30,
   "metadata": {},
   "outputs": [
    {
     "data": {
      "text/plain": [
       "9"
      ]
     },
     "execution_count": 30,
     "metadata": {},
     "output_type": "execute_result"
    }
   ],
   "source": [
    "# Design a query to show how many stations are available in this dataset?\n",
    "# len(session.query(Meas.station).distinct().all())\n",
    "session.query(Meas.station).distinct().count()\n"
   ]
  },
  {
   "cell_type": "code",
   "execution_count": 31,
   "metadata": {},
   "outputs": [
    {
     "data": {
      "text/html": [
       "<div>\n",
       "<style scoped>\n",
       "    .dataframe tbody tr th:only-of-type {\n",
       "        vertical-align: middle;\n",
       "    }\n",
       "\n",
       "    .dataframe tbody tr th {\n",
       "        vertical-align: top;\n",
       "    }\n",
       "\n",
       "    .dataframe thead th {\n",
       "        text-align: right;\n",
       "    }\n",
       "</style>\n",
       "<table border=\"1\" class=\"dataframe\">\n",
       "  <thead>\n",
       "    <tr style=\"text-align: right;\">\n",
       "      <th></th>\n",
       "      <th>Temp Count</th>\n",
       "      <th>Prec count</th>\n",
       "      <th>Sta_ID</th>\n",
       "      <th>Station Name</th>\n",
       "    </tr>\n",
       "  </thead>\n",
       "  <tbody>\n",
       "    <tr>\n",
       "      <th>0</th>\n",
       "      <td>2772</td>\n",
       "      <td>2772</td>\n",
       "      <td>USC00519281</td>\n",
       "      <td>WAIHEE 837.5, HI US</td>\n",
       "    </tr>\n",
       "    <tr>\n",
       "      <th>1</th>\n",
       "      <td>2724</td>\n",
       "      <td>2685</td>\n",
       "      <td>USC00519397</td>\n",
       "      <td>WAIKIKI 717.2, HI US</td>\n",
       "    </tr>\n",
       "    <tr>\n",
       "      <th>2</th>\n",
       "      <td>2709</td>\n",
       "      <td>2696</td>\n",
       "      <td>USC00513117</td>\n",
       "      <td>KANEOHE 838.1, HI US</td>\n",
       "    </tr>\n",
       "    <tr>\n",
       "      <th>3</th>\n",
       "      <td>2669</td>\n",
       "      <td>2572</td>\n",
       "      <td>USC00519523</td>\n",
       "      <td>WAIMANALO EXPERIMENTAL FARM, HI US</td>\n",
       "    </tr>\n",
       "    <tr>\n",
       "      <th>4</th>\n",
       "      <td>2612</td>\n",
       "      <td>2484</td>\n",
       "      <td>USC00516128</td>\n",
       "      <td>MANOA LYON ARBO 785.2, HI US</td>\n",
       "    </tr>\n",
       "    <tr>\n",
       "      <th>5</th>\n",
       "      <td>2202</td>\n",
       "      <td>1937</td>\n",
       "      <td>USC00514830</td>\n",
       "      <td>KUALOA RANCH HEADQUARTERS 886.9, HI US</td>\n",
       "    </tr>\n",
       "    <tr>\n",
       "      <th>6</th>\n",
       "      <td>1979</td>\n",
       "      <td>1932</td>\n",
       "      <td>USC00511918</td>\n",
       "      <td>HONOLULU OBSERVATORY 702.2, HI US</td>\n",
       "    </tr>\n",
       "    <tr>\n",
       "      <th>7</th>\n",
       "      <td>1372</td>\n",
       "      <td>683</td>\n",
       "      <td>USC00517948</td>\n",
       "      <td>PEARL CITY, HI US</td>\n",
       "    </tr>\n",
       "    <tr>\n",
       "      <th>8</th>\n",
       "      <td>511</td>\n",
       "      <td>342</td>\n",
       "      <td>USC00518838</td>\n",
       "      <td>UPPER WAHIAWA 874.3, HI US</td>\n",
       "    </tr>\n",
       "  </tbody>\n",
       "</table>\n",
       "</div>"
      ],
      "text/plain": [
       "   Temp Count  Prec count       Sta_ID                            Station Name\n",
       "0        2772        2772  USC00519281                     WAIHEE 837.5, HI US\n",
       "1        2724        2685  USC00519397                    WAIKIKI 717.2, HI US\n",
       "2        2709        2696  USC00513117                    KANEOHE 838.1, HI US\n",
       "3        2669        2572  USC00519523      WAIMANALO EXPERIMENTAL FARM, HI US\n",
       "4        2612        2484  USC00516128            MANOA LYON ARBO 785.2, HI US\n",
       "5        2202        1937  USC00514830  KUALOA RANCH HEADQUARTERS 886.9, HI US\n",
       "6        1979        1932  USC00511918       HONOLULU OBSERVATORY 702.2, HI US\n",
       "7        1372         683  USC00517948                       PEARL CITY, HI US\n",
       "8         511         342  USC00518838              UPPER WAHIAWA 874.3, HI US"
      ]
     },
     "execution_count": 31,
     "metadata": {},
     "output_type": "execute_result"
    }
   ],
   "source": [
    "# What are the most active stations? (i.e. what stations have the most rows)?\n",
    "# List the stations and the counts in descending order.\n",
    "\n",
    "sel = [func.count(Meas.tobs),\n",
    "       func.count(Meas.prcp),\n",
    "       Meas.station,\n",
    "       Sta.name]\n",
    "\n",
    "sta_obs_list = session.query(*sel).\\\n",
    "    filter(Meas.station == Sta.station).\\\n",
    "    group_by(Meas.station).\\\n",
    "    order_by(func.count(Meas.tobs).desc()).all()\n",
    "\n",
    "df_obs_count = pd.DataFrame(sta_obs_list, columns=['Temp Count','Prec count','Sta_ID','Station Name'])\n",
    "df_obs_count"
   ]
  },
  {
   "cell_type": "code",
   "execution_count": 32,
   "metadata": {},
   "outputs": [
    {
     "name": "stdout",
     "output_type": "stream",
     "text": [
      "Temperature stats for station USC00519281:\n",
      "   Max  85.0\n",
      "   Min  54.0\n",
      "   Mean 71.7\n"
     ]
    }
   ],
   "source": [
    "# Using the station id from the previous query, calculate the lowest temperature recorded, \n",
    "# highest temperature recorded, and average temperature of the most active station?\n",
    "sel = [Meas.station,\n",
    "       func.max(Meas.tobs),\n",
    "       func.min(Meas.tobs),\n",
    "       func.avg(Meas.tobs)]\n",
    "\n",
    "temp_stats = session.query(*sel).\\\n",
    "    filter(Meas.station == 'USC00519281').\\\n",
    "    group_by(Meas.station).all()\n",
    "\n",
    "print(f\"Temperature stats for station {temp_stats[0][0]}:\")\n",
    "print(f\"   Max  {temp_stats[0][1]}\")\n",
    "print(f\"   Min  {temp_stats[0][2]}\")\n",
    "print(f\"   Mean {temp_stats[0][3]:.1f}\")\n"
   ]
  },
  {
   "cell_type": "code",
   "execution_count": 33,
   "metadata": {},
   "outputs": [
    {
     "name": "stdout",
     "output_type": "stream",
     "text": [
      "365\n"
     ]
    },
    {
     "data": {
      "image/png": "[encoded data removed]",
      "text/plain": [
       "<Figure size 432x288 with 1 Axes>"
      ]
     },
     "metadata": {
      "needs_background": "light"
     },
     "output_type": "display_data"
    }
   ],
   "source": [
    "# Choose the station with the highest number of temperature observations.\n",
    "# Query the last 12 months of temperature observation data for this station and plot the results as a histogram\n",
    "\n",
    "sta_temp = session.query(Meas.date, Meas.tobs).\\\n",
    "    filter(Meas.station == 'USC00519281').\\\n",
    "    filter(Meas.date >= startdate).\\\n",
    "    filter(Meas.date <= enddate).\\\n",
    "    order_by(Meas.date).all()\n",
    "\n",
    "df_temp = pd.DataFrame(sta_temp, columns=sta_temp[0].keys())\n",
    "\n",
    "print(len(df_temp))\n",
    "\n",
    "df_temp.hist(column='tobs', bins=12)\n",
    "plt.xlabel('Temperature')\n",
    "plt.ylabel('Frequency')\n",
    "plt.title('Daily Temperature Histogram for Station USC00519281\\nfrom Aug 1, 2016 - Jul 31, 2017')\n",
    "plt.show()"
   ]
  },
  {
   "cell_type": "markdown",
   "metadata": {},
   "source": [
    "## My Own Bonus Challenge"
   ]
  },
  {
   "cell_type": "code",
   "execution_count": 34,
   "metadata": {},
   "outputs": [
    {
     "data": {
      "text/html": [
       "<div>\n",
       "<style scoped>\n",
       "    .dataframe tbody tr th:only-of-type {\n",
       "        vertical-align: middle;\n",
       "    }\n",
       "\n",
       "    .dataframe tbody tr th {\n",
       "        vertical-align: top;\n",
       "    }\n",
       "\n",
       "    .dataframe thead th {\n",
       "        text-align: right;\n",
       "    }\n",
       "</style>\n",
       "<table border=\"1\" class=\"dataframe\">\n",
       "  <thead>\n",
       "    <tr style=\"text-align: right;\">\n",
       "      <th></th>\n",
       "      <th>Start Date</th>\n",
       "      <th>End Date</th>\n",
       "      <th>Prec Count</th>\n",
       "      <th>Percent Complete</th>\n",
       "    </tr>\n",
       "    <tr>\n",
       "      <th>Sta_ID</th>\n",
       "      <th></th>\n",
       "      <th></th>\n",
       "      <th></th>\n",
       "      <th></th>\n",
       "    </tr>\n",
       "  </thead>\n",
       "  <tbody>\n",
       "    <tr>\n",
       "      <th>USC00511918</th>\n",
       "      <td>2010-01-01</td>\n",
       "      <td>2015-10-30</td>\n",
       "      <td>1932</td>\n",
       "      <td>90.75</td>\n",
       "    </tr>\n",
       "    <tr>\n",
       "      <th>USC00513117</th>\n",
       "      <td>2010-01-01</td>\n",
       "      <td>2017-07-31</td>\n",
       "      <td>2696</td>\n",
       "      <td>97.36</td>\n",
       "    </tr>\n",
       "    <tr>\n",
       "      <th>USC00514830</th>\n",
       "      <td>2010-03-01</td>\n",
       "      <td>2017-08-23</td>\n",
       "      <td>1937</td>\n",
       "      <td>70.87</td>\n",
       "    </tr>\n",
       "    <tr>\n",
       "      <th>USC00516128</th>\n",
       "      <td>2010-01-01</td>\n",
       "      <td>2017-08-23</td>\n",
       "      <td>2484</td>\n",
       "      <td>88.97</td>\n",
       "    </tr>\n",
       "    <tr>\n",
       "      <th>USC00517948</th>\n",
       "      <td>2010-05-03</td>\n",
       "      <td>2017-07-31</td>\n",
       "      <td>683</td>\n",
       "      <td>25.80</td>\n",
       "    </tr>\n",
       "    <tr>\n",
       "      <th>USC00518838</th>\n",
       "      <td>2010-01-01</td>\n",
       "      <td>2015-11-20</td>\n",
       "      <td>342</td>\n",
       "      <td>15.91</td>\n",
       "    </tr>\n",
       "    <tr>\n",
       "      <th>USC00519281</th>\n",
       "      <td>2010-01-01</td>\n",
       "      <td>2017-08-18</td>\n",
       "      <td>2772</td>\n",
       "      <td>99.46</td>\n",
       "    </tr>\n",
       "    <tr>\n",
       "      <th>USC00519397</th>\n",
       "      <td>2010-01-01</td>\n",
       "      <td>2017-08-23</td>\n",
       "      <td>2685</td>\n",
       "      <td>96.17</td>\n",
       "    </tr>\n",
       "    <tr>\n",
       "      <th>USC00519523</th>\n",
       "      <td>2010-01-01</td>\n",
       "      <td>2017-08-23</td>\n",
       "      <td>2572</td>\n",
       "      <td>92.12</td>\n",
       "    </tr>\n",
       "  </tbody>\n",
       "</table>\n",
       "</div>"
      ],
      "text/plain": [
       "            Start Date   End Date  Prec Count  Percent Complete\n",
       "Sta_ID                                                         \n",
       "USC00511918 2010-01-01 2015-10-30        1932             90.75\n",
       "USC00513117 2010-01-01 2017-07-31        2696             97.36\n",
       "USC00514830 2010-03-01 2017-08-23        1937             70.87\n",
       "USC00516128 2010-01-01 2017-08-23        2484             88.97\n",
       "USC00517948 2010-05-03 2017-07-31         683             25.80\n",
       "USC00518838 2010-01-01 2015-11-20         342             15.91\n",
       "USC00519281 2010-01-01 2017-08-18        2772             99.46\n",
       "USC00519397 2010-01-01 2017-08-23        2685             96.17\n",
       "USC00519523 2010-01-01 2017-08-23        2572             92.12"
      ]
     },
     "metadata": {},
     "output_type": "display_data"
    },
    {
     "data": {
      "text/html": [
       "<div>\n",
       "<style scoped>\n",
       "    .dataframe tbody tr th:only-of-type {\n",
       "        vertical-align: middle;\n",
       "    }\n",
       "\n",
       "    .dataframe tbody tr th {\n",
       "        vertical-align: top;\n",
       "    }\n",
       "\n",
       "    .dataframe thead th {\n",
       "        text-align: right;\n",
       "    }\n",
       "</style>\n",
       "<table border=\"1\" class=\"dataframe\">\n",
       "  <thead>\n",
       "    <tr style=\"text-align: right;\">\n",
       "      <th></th>\n",
       "      <th>Start Date</th>\n",
       "      <th>End Date</th>\n",
       "      <th>Temp Count</th>\n",
       "      <th>Percent Complete</th>\n",
       "    </tr>\n",
       "    <tr>\n",
       "      <th>Sta_ID</th>\n",
       "      <th></th>\n",
       "      <th></th>\n",
       "      <th></th>\n",
       "      <th></th>\n",
       "    </tr>\n",
       "  </thead>\n",
       "  <tbody>\n",
       "    <tr>\n",
       "      <th>USC00511918</th>\n",
       "      <td>2010-01-01</td>\n",
       "      <td>2015-10-30</td>\n",
       "      <td>1979</td>\n",
       "      <td>92.95</td>\n",
       "    </tr>\n",
       "    <tr>\n",
       "      <th>USC00513117</th>\n",
       "      <td>2010-01-01</td>\n",
       "      <td>2017-07-31</td>\n",
       "      <td>2709</td>\n",
       "      <td>97.83</td>\n",
       "    </tr>\n",
       "    <tr>\n",
       "      <th>USC00514830</th>\n",
       "      <td>2010-03-01</td>\n",
       "      <td>2017-08-23</td>\n",
       "      <td>2202</td>\n",
       "      <td>80.57</td>\n",
       "    </tr>\n",
       "    <tr>\n",
       "      <th>USC00516128</th>\n",
       "      <td>2010-01-01</td>\n",
       "      <td>2017-08-23</td>\n",
       "      <td>2612</td>\n",
       "      <td>93.55</td>\n",
       "    </tr>\n",
       "    <tr>\n",
       "      <th>USC00517948</th>\n",
       "      <td>2010-05-03</td>\n",
       "      <td>2017-07-31</td>\n",
       "      <td>1372</td>\n",
       "      <td>51.83</td>\n",
       "    </tr>\n",
       "    <tr>\n",
       "      <th>USC00518838</th>\n",
       "      <td>2010-01-01</td>\n",
       "      <td>2015-11-20</td>\n",
       "      <td>511</td>\n",
       "      <td>23.77</td>\n",
       "    </tr>\n",
       "    <tr>\n",
       "      <th>USC00519281</th>\n",
       "      <td>2010-01-01</td>\n",
       "      <td>2017-08-18</td>\n",
       "      <td>2772</td>\n",
       "      <td>99.46</td>\n",
       "    </tr>\n",
       "    <tr>\n",
       "      <th>USC00519397</th>\n",
       "      <td>2010-01-01</td>\n",
       "      <td>2017-08-23</td>\n",
       "      <td>2724</td>\n",
       "      <td>97.56</td>\n",
       "    </tr>\n",
       "    <tr>\n",
       "      <th>USC00519523</th>\n",
       "      <td>2010-01-01</td>\n",
       "      <td>2017-08-23</td>\n",
       "      <td>2669</td>\n",
       "      <td>95.59</td>\n",
       "    </tr>\n",
       "  </tbody>\n",
       "</table>\n",
       "</div>"
      ],
      "text/plain": [
       "            Start Date   End Date  Temp Count  Percent Complete\n",
       "Sta_ID                                                         \n",
       "USC00511918 2010-01-01 2015-10-30        1979             92.95\n",
       "USC00513117 2010-01-01 2017-07-31        2709             97.83\n",
       "USC00514830 2010-03-01 2017-08-23        2202             80.57\n",
       "USC00516128 2010-01-01 2017-08-23        2612             93.55\n",
       "USC00517948 2010-05-03 2017-07-31        1372             51.83\n",
       "USC00518838 2010-01-01 2015-11-20         511             23.77\n",
       "USC00519281 2010-01-01 2017-08-18        2772             99.46\n",
       "USC00519397 2010-01-01 2017-08-23        2724             97.56\n",
       "USC00519523 2010-01-01 2017-08-23        2669             95.59"
      ]
     },
     "metadata": {},
     "output_type": "display_data"
    }
   ],
   "source": [
    "sel = [Meas.station, \n",
    "       func.min(Meas.date), \n",
    "       func.max(Meas.date),\n",
    "       func.count(Meas.prcp),\n",
    "       func.count(Meas.tobs)]\n",
    "sta_summary = session.query(*sel).\\\n",
    "    group_by(Meas.station).\\\n",
    "    order_by(Meas.station).all()\n",
    "cols = ['Sta_ID','Start Date','End Date', 'Prec Count', 'Temp Count']\n",
    "df_obs_dates = pd.DataFrame(sta_summary, columns=cols)\n",
    "df_obs_dates['Start Date'] = pd.to_datetime(df_obs_dates['Start Date'])\n",
    "df_obs_dates['End Date'] = pd.to_datetime(df_obs_dates['End Date'])\n",
    "df_obs_dates['Date Diff (days)'] = (df_obs_dates['End Date'] - df_obs_dates['Start Date']).dt.days + 1\n",
    "df_obs_dates.set_index('Sta_ID', inplace=True)\n",
    "\n",
    "df_prec_report = df_obs_dates[['Start Date','End Date', 'Prec Count', 'Date Diff (days)']]\n",
    "df_prec_report['Percent Complete'] = round(df_prec_report['Prec Count'] / df_prec_report['Date Diff (days)'] * 100, 2)\n",
    "df_prec_report.drop(columns=['Date Diff (days)'], inplace=True)\n",
    "display(df_prec_report)\n",
    "\n",
    "df_temp_report = df_obs_dates[['Start Date','End Date', 'Temp Count', 'Date Diff (days)']]\n",
    "df_temp_report['Percent Complete'] = round(df_temp_report['Temp Count'] / df_temp_report['Date Diff (days)'] * 100, 2)\n",
    "df_temp_report.drop(columns=['Date Diff (days)'], inplace=True)\n",
    "display(df_temp_report)\n",
    "\n"
   ]
  },
  {
   "cell_type": "code",
   "execution_count": 195,
   "metadata": {},
   "outputs": [
    {
     "name": "stdout",
     "output_type": "stream",
     "text": [
      "2792 2792\n"
     ]
    },
    {
     "data": {
      "text/plain": [
       "Sta_ID\n",
       "USC00511918    61\n",
       "USC00513117    89\n",
       "USC00514830    29\n",
       "USC00516128    75\n",
       "USC00517948     0\n",
       "USC00518838     0\n",
       "USC00519281    91\n",
       "USC00519397    87\n",
       "USC00519523    84\n",
       "dtype: int64"
      ]
     },
     "metadata": {},
     "output_type": "display_data"
    },
    {
     "ename": "AttributeError",
     "evalue": "'list' object has no attribute 'month'",
     "output_type": "error",
     "traceback": [
      "\u001b[1;31m---------------------------------------------------------------------------\u001b[0m",
      "\u001b[1;31mAttributeError\u001b[0m                            Traceback (most recent call last)",
      "\u001b[1;32m<ipython-input-195-3bb746fb71b8>\u001b[0m in \u001b[0;36m<module>\u001b[1;34m\u001b[0m\n\u001b[0;32m     34\u001b[0m \u001b[0mdf_prec_sum3\u001b[0m\u001b[1;33m.\u001b[0m\u001b[0mdrop\u001b[0m\u001b[1;33m(\u001b[0m\u001b[0mindex\u001b[0m\u001b[1;33m=\u001b[0m\u001b[0mpd\u001b[0m\u001b[1;33m.\u001b[0m\u001b[0mPeriod\u001b[0m\u001b[1;33m(\u001b[0m\u001b[0mvalue\u001b[0m\u001b[1;33m=\u001b[0m\u001b[1;34m'2017-08'\u001b[0m\u001b[1;33m)\u001b[0m\u001b[1;33m)\u001b[0m\u001b[1;33m\u001b[0m\u001b[1;33m\u001b[0m\u001b[0m\n\u001b[0;32m     35\u001b[0m \u001b[1;33m\u001b[0m\u001b[0m\n\u001b[1;32m---> 36\u001b[1;33m \u001b[0mdf_prec_sum3\u001b[0m\u001b[1;33m.\u001b[0m\u001b[0mboxplot\u001b[0m\u001b[1;33m(\u001b[0m\u001b[0mby\u001b[0m\u001b[1;33m=\u001b[0m\u001b[1;33m[\u001b[0m\u001b[1;34m'Year_Mo'\u001b[0m\u001b[1;33m]\u001b[0m\u001b[1;33m.\u001b[0m\u001b[0mmonth\u001b[0m\u001b[1;33m,\u001b[0m \u001b[0mlayout\u001b[0m\u001b[1;33m=\u001b[0m\u001b[1;33m(\u001b[0m\u001b[1;36m1\u001b[0m\u001b[1;33m,\u001b[0m\u001b[1;36m3\u001b[0m\u001b[1;33m)\u001b[0m\u001b[1;33m,\u001b[0m \u001b[0mfigsize\u001b[0m\u001b[1;33m=\u001b[0m\u001b[1;33m(\u001b[0m\u001b[1;36m16\u001b[0m\u001b[1;33m,\u001b[0m\u001b[1;36m6\u001b[0m\u001b[1;33m)\u001b[0m\u001b[1;33m)\u001b[0m\u001b[1;33m\u001b[0m\u001b[1;33m\u001b[0m\u001b[0m\n\u001b[0m\u001b[0;32m     37\u001b[0m \u001b[1;33m\u001b[0m\u001b[0m\n",
      "\u001b[1;31mAttributeError\u001b[0m: 'list' object has no attribute 'month'"
     ]
    }
   ],
   "source": [
    "sel = [Meas.station, Meas.date, Meas.prcp, Meas.tobs]\n",
    "df_meas = pd.DataFrame(session.query(*sel), columns=['Sta_ID','Date','Prec','Temp'])\n",
    "df_meas['Date'] = pd.to_datetime(df_meas['Date'])\n",
    "\n",
    "# Check all dates included in db date range\n",
    "numdates_df = df_meas['Date'].nunique()\n",
    "daterange_df = df_meas['Date'].max() - df_meas['Date'].min() + dt.timedelta(days=1)\n",
    "print(numdates_df, daterange_df.days)\n",
    "\n",
    "# https://stackoverflow.com/questions/46319852/pandas-monthly-date-range-with-number-of-days\n",
    "start_d = dt.date(2010, 1, 1)\n",
    "end_d = dt.date(2017, 8, 31)\n",
    "s = pd.Series(index=pd.date_range(start_d, end_d), dtype='object')\n",
    "s_daysinmonth = s.resample('MS').size().to_period('m').rename_axis('Year_Mo')\n",
    "\n",
    "df_meas['Year_Mo'] = pd.PeriodIndex(df_meas['Date'],  freq=\"M\")\n",
    "df_prec_count = pd.pivot_table(df_meas, values='Prec', index='Year_Mo', columns='Sta_ID', aggfunc='count')\n",
    "df_prec_sum = pd.pivot_table(df_meas, values='Prec', index='Year_Mo', columns='Sta_ID', aggfunc='sum')\n",
    "\n",
    "df_prec_pcnt = df_prec_count.divide(s_daysinmonth, axis=0)\n",
    "\n",
    "cm = sns.light_palette(\"darkred\", as_cmap=True).reversed()\n",
    "# display(df_prec_pcnt.style.background_gradient(cmap=cm, axis=None))\n",
    "\n",
    "df_prec_pcnt2[df_prec_pcnt2.loc[:,:] < 0.8] = np.nan\n",
    "\n",
    "df_prec_sum2 = df_prec_sum.divide(df_prec_pcnt2, axis=0)\n",
    "# display(df_prec_sum2.style.background_gradient(cmap='YlGnBu', axis=None))\n",
    "\n",
    "df_prec_sum3 = df_prec_sum2.copy()\n",
    "display(df_prec_sum3.count())\n",
    "\n",
    "df_prec_sum3.drop(columns=['USC00511918','USC00514830','USC00516128','USC00517948','USC00518838','USC00519523'], inplace=True)\n",
    "df_prec_sum3.drop(index=pd.Period(value='2017-08'))\n",
    "df_prec_sum3['Month'] = df_prec_sum3.index.strftime('%b')\n",
    "\n",
    "df_prec_sum3.boxplot(by='Month', layout=(1,3), figsize=(16,6))\n",
    "\n"
   ]
  },
  {
   "cell_type": "markdown",
   "metadata": {},
   "source": [
    "ValueError: 'RBu' is not a valid value for name; supported values are 'Accent', 'Accent_r', 'Blues', 'Blues_r', 'BrBG', 'BrBG_r', 'BuGn', 'BuGn_r', 'BuPu', 'BuPu_r', 'CMRmap', 'CMRmap_r', 'Dark2', 'Dark2_r', 'GnBu', 'GnBu_r', 'Greens', 'Greens_r', 'Greys', 'Greys_r', 'OrRd', 'OrRd_r', 'Oranges', 'Oranges_r', 'PRGn', 'PRGn_r', 'Paired', 'Paired_r', 'Pastel1', 'Pastel1_r', 'Pastel2', 'Pastel2_r', 'PiYG', 'PiYG_r', 'PuBu', 'PuBuGn', 'PuBuGn_r', 'PuBu_r', 'PuOr', 'PuOr_r', 'PuRd', 'PuRd_r', 'Purples', 'Purples_r', 'RdBu', 'RdBu_r', 'RdGy', 'RdGy_r', 'RdPu', 'RdPu_r', 'RdYlBu', 'RdYlBu_r', 'RdYlGn', 'RdYlGn_r', 'Reds', 'Reds_r', 'Set1', 'Set1_r', 'Set2', 'Set2_r', 'Set3', 'Set3_r', 'Spectral', 'Spectral_r', 'Wistia', 'Wistia_r', 'YlGn', 'YlGnBu', 'YlGnBu_r', 'YlGn_r', 'YlOrBr', 'YlOrBr_r', 'YlOrRd', 'YlOrRd_r', 'afmhot', 'afmhot_r', 'autumn', 'autumn_r', 'binary', 'binary_r', 'bone', 'bone_r', 'brg', 'brg_r', 'bwr', 'bwr_r', 'cividis', 'cividis_r', 'cool', 'cool_r', 'coolwarm', 'coolwarm_r', 'copper', 'copper_r', 'crest', 'crest_r', 'cubehelix', 'cubehelix_r', 'flag', 'flag_r', 'flare', 'flare_r', 'gist_earth', 'gist_earth_r', 'gist_gray', 'gist_gray_r', 'gist_heat', 'gist_heat_r', 'gist_ncar', 'gist_ncar_r', 'gist_rainbow', 'gist_rainbow_r', 'gist_stern', 'gist_stern_r', 'gist_yarg', 'gist_yarg_r', 'gnuplot', 'gnuplot2', 'gnuplot2_r', 'gnuplot_r', 'gray', 'gray_r', 'hot', 'hot_r', 'hsv', 'hsv_r', 'icefire', 'icefire_r', 'inferno', 'inferno_r', 'jet', 'jet_r', 'magma', 'magma_r', 'mako', 'mako_r', 'nipy_spectral', 'nipy_spectral_r', 'ocean', 'ocean_r', 'pink', 'pink_r', 'plasma', 'plasma_r', 'prism', 'prism_r', 'rainbow', 'rainbow_r', 'rocket', 'rocket_r', 'seismic', 'seismic_r', 'spring', 'spring_r', 'summer', 'summer_r', 'tab10', 'tab10_r', 'tab20', 'tab20_r', 'tab20b', 'tab20b_r', 'tab20c', 'tab20c_r', 'terrain', 'terrain_r', 'turbo', 'turbo_r', 'twilight', 'twilight_r', 'twilight_shifted', 'twilight_shifted_r', 'viridis', 'viridis_r', 'vlag', 'vlag_r', 'winter', 'winter_r'"
   ]
  },
  {
   "cell_type": "code",
   "execution_count": null,
   "metadata": {},
   "outputs": [],
   "source": []
  },
  {
   "cell_type": "code",
   "execution_count": null,
   "metadata": {},
   "outputs": [],
   "source": []
  },
  {
   "cell_type": "code",
   "execution_count": null,
   "metadata": {},
   "outputs": [],
   "source": []
  },
  {
   "cell_type": "code",
   "execution_count": null,
   "metadata": {},
   "outputs": [],
   "source": []
  },
  {
   "cell_type": "code",
   "execution_count": null,
   "metadata": {},
   "outputs": [],
   "source": []
  },
  {
   "cell_type": "code",
   "execution_count": null,
   "metadata": {},
   "outputs": [],
   "source": []
  },
  {
   "cell_type": "code",
   "execution_count": null,
   "metadata": {},
   "outputs": [],
   "source": []
  },
  {
   "cell_type": "code",
   "execution_count": null,
   "metadata": {},
   "outputs": [],
   "source": []
  },
  {
   "cell_type": "code",
   "execution_count": null,
   "metadata": {},
   "outputs": [],
   "source": []
  },
  {
   "cell_type": "markdown",
   "metadata": {},
   "source": [
    "## Bonus Challenge Assignment"
   ]
  },
  {
   "cell_type": "code",
   "execution_count": 135,
   "metadata": {},
   "outputs": [
    {
     "name": "stdout",
     "output_type": "stream",
     "text": [
      "[(62.0, 69.57142857142857, 74.0)]\n"
     ]
    }
   ],
   "source": [
    "# This function called `calc_temps` will accept start date and end date in the format '%Y-%m-%d' \n",
    "# and return the minimum, average, and maximum temperatures for that range of dates\n",
    "def calc_temps(start_date, end_date):\n",
    "    \"\"\"TMIN, TAVG, and TMAX for a list of dates.\n",
    "    \n",
    "    Args:\n",
    "        start_date (string): A date string in the format %Y-%m-%d\n",
    "        end_date (string): A date string in the format %Y-%m-%d\n",
    "        \n",
    "    Returns:\n",
    "        TMIN, TAVE, and TMAX\n",
    "    \"\"\"\n",
    "    \n",
    "    return session.query(func.min(Meas.tobs), func.avg(Meas.tobs), func.max(Meas.tobs)).\\\n",
    "        filter(Meas.date >= start_date).filter(Meas.date <= end_date).all()\n",
    "\n",
    "# function usage example\n",
    "print(calc_temps('2012-02-28', '2012-03-05'))"
   ]
  },
  {
   "cell_type": "code",
   "execution_count": null,
   "metadata": {},
   "outputs": [],
   "source": [
    "# Use your previous function `calc_temps` to calculate the tmin, tavg, and tmax \n",
    "# for your trip using the previous year's data for those same dates.\n"
   ]
  },
  {
   "cell_type": "code",
   "execution_count": null,
   "metadata": {},
   "outputs": [],
   "source": [
    "# Plot the results from your previous query as a bar chart. \n",
    "# Use \"Trip Avg Temp\" as your Title\n",
    "# Use the average temperature for the y value\n",
    "# Use the peak-to-peak (tmax-tmin) value as the y error bar (yerr)\n"
   ]
  },
  {
   "cell_type": "code",
   "execution_count": null,
   "metadata": {},
   "outputs": [],
   "source": [
    "# Calculate the total amount of rainfall per weather station for your trip dates using the previous year's matching dates.\n",
    "# Sort this in descending order by precipitation amount and list the station, name, latitude, longitude, and elevation\n",
    "\n"
   ]
  },
  {
   "cell_type": "code",
   "execution_count": null,
   "metadata": {},
   "outputs": [],
   "source": [
    "# Create a query that will calculate the daily normals \n",
    "# (i.e. the averages for tmin, tmax, and tavg for all historic data matching a specific month and day)\n",
    "\n",
    "def daily_normals(date):\n",
    "    \"\"\"Daily Normals.\n",
    "    \n",
    "    Args:\n",
    "        date (str): A date string in the format '%m-%d'\n",
    "        \n",
    "    Returns:\n",
    "        A list of tuples containing the daily normals, tmin, tavg, and tmax\n",
    "    \n",
    "    \"\"\"\n",
    "    \n",
    "    sel = [func.min(Measurement.tobs), func.avg(Measurement.tobs), func.max(Measurement.tobs)]\n",
    "    return session.query(*sel).filter(func.strftime(\"%m-%d\", Measurement.date) == date).all()\n",
    "    \n",
    "daily_normals(\"01-01\")"
   ]
  },
  {
   "cell_type": "code",
   "execution_count": null,
   "metadata": {},
   "outputs": [],
   "source": [
    "# calculate the daily normals for your trip\n",
    "# push each tuple of calculations into a list called `normals`\n",
    "\n",
    "# Set the start and end date of the trip\n",
    "\n",
    "# Use the start and end date to create a range of dates\n",
    "\n",
    "# Stip off the year and save a list of %m-%d strings\n",
    "\n",
    "# Loop through the list of %m-%d strings and calculate the normals for each date\n"
   ]
  },
  {
   "cell_type": "code",
   "execution_count": null,
   "metadata": {},
   "outputs": [],
   "source": [
    "# Load the previous query results into a Pandas DataFrame and add the `trip_dates` range as the `date` index\n"
   ]
  },
  {
   "cell_type": "code",
   "execution_count": null,
   "metadata": {},
   "outputs": [],
   "source": [
    "# Plot the daily normals as an area plot with `stacked=False`\n"
   ]
  }
 ],
 "metadata": {
  "kernel_info": {
   "name": "python3"
  },
  "kernelspec": {
   "display_name": "Python 3",
   "language": "python",
   "name": "python3"
  },
  "language_info": {
   "codemirror_mode": {
    "name": "ipython",
    "version": 3
   },
   "file_extension": ".py",
   "mimetype": "text/x-python",
   "name": "python",
   "nbconvert_exporter": "python",
   "pygments_lexer": "ipython3",
   "version": "3.9.4"
  },
  "nteract": {
   "version": "0.12.3"
  },
  "varInspector": {
   "cols": {
    "lenName": 16,
    "lenType": 16,
    "lenVar": 40
   },
   "kernels_config": {
    "python": {
     "delete_cmd_postfix": "",
     "delete_cmd_prefix": "del ",
     "library": "var_list.py",
     "varRefreshCmd": "print(var_dic_list())"
    },
    "r": {
     "delete_cmd_postfix": ") ",
     "delete_cmd_prefix": "rm(",
     "library": "var_list.r",
     "varRefreshCmd": "cat(var_dic_list()) "
    }
   },
   "types_to_exclude": [
    "module",
    "function",
    "builtin_function_or_method",
    "instance",
    "_Feature"
   ],
   "window_display": false
  }
 },
 "nbformat": 4,
 "nbformat_minor": 4
}
